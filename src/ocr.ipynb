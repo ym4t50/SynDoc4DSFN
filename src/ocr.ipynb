{
 "cells": [
  {
   "cell_type": "code",
   "execution_count": null,
   "metadata": {},
   "outputs": [],
   "source": [
    "import os\n",
    "import glob\n",
    "import cv2\n",
    "import re\n",
    "import Levenshtein\n",
    "from tqdm import tqdm"
   ]
  },
  {
   "cell_type": "code",
   "execution_count": null,
   "metadata": {},
   "outputs": [],
   "source": [
    "root_dir = \".\"\n",
    "non_shadow_paths = sorted(glob.glob(\"../datasets/OSR/shadowfree_image/*\")) # output data path\n",
    "shadow_paths = sorted(glob.glob(\"../datasets/OSR/shadowfree_image/*\"))\n",
    "paths = {\"non_shadow\": non_shadow_paths, \"shadow\": shadow_paths}"
   ]
  },
  {
   "cell_type": "code",
   "execution_count": null,
   "metadata": {},
   "outputs": [],
   "source": [
    "right_rot = [\"001\", \"002\", \"017\", \"019\", \"020\", \"021\", \"023\"]\n",
    "reedable = [\"003\", \"005\", \"006\", \"007\", \"008\", \"009\", \"010\", \"011\", \"012\", \"013\", \"014\", \"015\", \"016\", \"024\", \"025\", \"026\"]\n",
    "if not os.path.exists(\"ocr/hocr\"):\n",
    "    os.mkdir(\"ocr/hocr\")\n",
    "if not os.path.exists(\"ocr/ocr\"):\n",
    "    os.mkdir(\"ocr/ocr\")\n",
    "if not os.path.exists(\"ocr/ocr_text\"):\n",
    "    os.mkdir(\"ocr/ocr_text\")\n",
    "\n",
    "for shadow_type in [\"shadow\", \"non_shadow\"]:\n",
    "    for p in tqdm(paths[shadow_type]):\n",
    "        file_name = p.split(\"/\")[-1].split(\".\")[0]\n",
    "        if not file_name.split(\"_\")[0] in reedable:\n",
    "            continue\n",
    "        os.system(f\"tesseract {p} ocr/hocr/{shadow_type}_{file_name} hocr\")\n",
    "        os.system(f\"tesseract {p} ocr/ocr_text/{shadow_type}_{file_name}\")\n",
    "\n",
    "        img = cv2.imread(p)\n",
    "        if file_name.split(\"_\")[0] in right_rot:\n",
    "            img = cv2.rotate(img, cv2.ROTATE_90_CLOCKWISE)\n",
    "        \n",
    "        with open(f\"ocr/hocr/{shadow_type}_{file_name}.hocr\") as f:\n",
    "            lines = f.readlines()\n",
    "\n",
    "            for line in lines:\n",
    "                e = re.findall(\"ocrx_word|bbox|[0-9]+|x_wconf|>.+<\", line)\n",
    "                if \"x_wconf\" in e:\n",
    "                    index = e.index(\"bbox\")\n",
    "                    conf_idx = e.index(\"x_wconf\")\n",
    "                    pt = [int(ax) for ax in e[index+1:index+5]]\n",
    "                    conf = int(e[conf_idx+1])\n",
    "                    text = e[-1][1:-1]\n",
    "\n",
    "                    cv2.rectangle(img, pt1=(pt[0], pt[1]), pt2=(pt[2], pt[3]), color=(0, 255, 0), thickness=2)\n",
    "                    cv2.putText(img, text, org=(pt[0], pt[1]), fontFace=cv2.FONT_HERSHEY_PLAIN, color=(255, 0, 0), fontScale=1)\n",
    "        cv2.imwrite(f\"ocr/ocr/{shadow_type}_{file_name}.png\", img)\n"
   ]
  },
  {
   "cell_type": "code",
   "execution_count": null,
   "metadata": {},
   "outputs": [],
   "source": [
    "distances = []\n",
    "shadow_text_path = sorted(glob.glob(\"ocr/ocr_text/shadow_*.txt\"))\n",
    "non_shadow_text_path = sorted(glob.glob(\"ocr/ocr_text/non_shadow_*.txt\"))\n",
    "for shadow_p, non_shadow_p in zip(shadow_text_path, non_shadow_text_path):\n",
    "        file_name = shadow_p.split(\"/\")[-1].split(\".\")[0].split(\"_\")[-1]\n",
    "\n",
    "        shadow_f = open(shadow_p)\n",
    "        shadow_text = \"\".join(map(lambda x: x.strip(), shadow_f.readlines()))\n",
    "        shadow_f.close()\n",
    "\n",
    "        non_shadow_f = open(non_shadow_p)\n",
    "        non_shadow_text = \"\".join(map(lambda x: x.strip(), non_shadow_f.readlines()))\n",
    "        non_shadow_f.close()\n",
    "\n",
    "        distance = Levenshtein.distance(shadow_text, non_shadow_text)\n",
    "\n",
    "        if distance == 0:\n",
    "                print(\"file name:\", file_name)\n",
    "                print(shadow_text)\n",
    "                print(non_shadow_text)\n",
    "\n",
    "        distances.append(distance)\n",
    "\n",
    "        shadow_f.close()\n",
    "        non_shadow_f.close()\n",
    "\n",
    "print(sum(distances)/len(shadow_text_path))"
   ]
  }
 ],
 "metadata": {
  "kernelspec": {
   "display_name": "Python 3",
   "language": "python",
   "name": "python3"
  },
  "language_info": {
   "codemirror_mode": {
    "name": "ipython",
    "version": 3
   },
   "file_extension": ".py",
   "mimetype": "text/x-python",
   "name": "python",
   "nbconvert_exporter": "python",
   "pygments_lexer": "ipython3",
   "version": "3.8.8"
  },
  "orig_nbformat": 4,
  "vscode": {
   "interpreter": {
    "hash": "0299aec0d6ab1eecb6cb5c442dac294f52269a9cdac625839481a3060c084ac0"
   }
  }
 },
 "nbformat": 4,
 "nbformat_minor": 2
}
