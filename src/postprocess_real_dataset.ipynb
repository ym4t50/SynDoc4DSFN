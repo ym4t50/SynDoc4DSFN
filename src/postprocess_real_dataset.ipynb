{
 "cells": [
  {
   "cell_type": "code",
   "execution_count": null,
   "metadata": {},
   "outputs": [],
   "source": [
    "import numpy as np\n",
    "import cv2\n",
    "import os\n",
    "from glob import glob\n",
    "from tqdm import tqdm\n",
    "import random\n",
    "import torch\n",
    "import torchvision.transforms as TF\n",
    "import csv\n",
    "from typing import no_type_check\n",
    "from sklearn import mixture\n",
    "from sklearn.cluster import KMeans"
   ]
  },
  {
   "attachments": {},
   "cell_type": "markdown",
   "metadata": {},
   "source": [
    "### making shadow mask"
   ]
  },
  {
   "cell_type": "code",
   "execution_count": null,
   "metadata": {},
   "outputs": [],
   "source": [
    "NAME = DIR = \"Jung\"\n",
    "\n",
    "shadowfree_img_paths = sorted(glob(f\"../datasets/{NAME}/shadowfree_image/*\"))\n",
    "shadow_img_paths = sorted(glob(f\"../datasets/{NAME}/shadow_image/*\"))\n",
    "\n",
    "if not os.path.exists(f\"../datasets/{NAME}/shadow_mask/\"):\n",
    "    os.mkdir(f\"../datasets/{NAME}/shadow_mask/\")\n",
    "\n",
    "NUMS = len(shadow_img_paths)\n",
    "\n",
    "for idx in tqdm(range(NUMS)):\n",
    "\n",
    "    shadowfree_img_path = shadowfree_img_paths[idx]\n",
    "    shadow_img_path = shadow_img_paths[idx]\n",
    "\n",
    "    img_name = shadow_img_path.split(\"/\")[-1]\n",
    "\n",
    "    shadowfree_img = cv2.imread(shadowfree_img_path).astype(np.float64)\n",
    "    shadow_img = cv2.imread(shadow_img_path).astype(np.float64)\n",
    "\n",
    "    diff = (shadowfree_img-shadow_img)\n",
    "    diff = ((diff-diff.min())/(diff.max()-diff.min())*255).astype(np.uint8)\n",
    "\n",
    "    gray = cv2.cvtColor(diff, cv2.COLOR_RGB2GRAY)\n",
    "    _, th = cv2.threshold(gray, 0, 255, cv2.THRESH_OTSU)\n",
    "    cv2.imwrite(os.path.join(f\"../datasets/{NAME}/shadow_mask/\", img_name), th)"
   ]
  },
  {
   "attachments": {},
   "cell_type": "markdown",
   "metadata": {},
   "source": [
    "# making rgb color"
   ]
  },
  {
   "cell_type": "code",
   "execution_count": null,
   "metadata": {},
   "outputs": [],
   "source": [
    "def get_average_color(x):\n",
    "    b, g, r = x[:, 0], x[:, 1], x[:, 2]\n",
    "\n",
    "    return np.array([np.mean(b), np.mean(g), np.mean(r)])"
   ]
  },
  {
   "cell_type": "code",
   "execution_count": 42,
   "metadata": {},
   "outputs": [
    {
     "name": "stdout",
     "output_type": "stream",
     "text": [
      "the number of images:  237\n"
     ]
    },
    {
     "name": "stderr",
     "output_type": "stream",
     "text": [
      "100%|██████████| 237/237 [08:54<00:00,  2.26s/it]\n"
     ]
    }
   ],
   "source": [
    "shadowfree_path = sorted(glob(f\"../datasets/{DIR}/shadowfree_image/*.jpg\"))\n",
    "save_path = f\"../datasets/{DIR}/background_color_csv\"\n",
    "save_path_img = f\"../datasets/{DIR}/background_color_image\"\n",
    "print(\"the number of images: \", len(shadowfree_path))\n",
    "\n",
    "kernel = (5, 5)\n",
    "\n",
    "if not os.path.exists(save_path):\n",
    "    os.mkdir(save_path)\n",
    "\n",
    "if not os.path.exists(save_path_img):\n",
    "    os.mkdir(save_path_img)\n",
    "\n",
    "mode = \"kmeans\"\n",
    "\n",
    "for path in tqdm(shadowfree_path):\n",
    "    file_name = path.split(\"/\")[-1]\n",
    "\n",
    "    x = cv2.imread(path)\n",
    "    x = cv2.resize(x, (512, 512))\n",
    "    h, w, c = x.shape\n",
    "    x = x.flatten().reshape(h*w, c)\n",
    "\n",
    "    if mode == \"gmm\":\n",
    "        model = mixture.GaussianMixture(n_components=2, covariance_type='full')\n",
    "        model.fit(x)\n",
    "    elif mode == \"kmeans\":\n",
    "        model = KMeans(n_clusters=2)\n",
    "        model.fit(x)\n",
    "\n",
    "    cls = model.predict(x.flatten().reshape(h*w, c))\n",
    "    cls0_colors = x[cls == 0]\n",
    "    cls1_colors = x[cls == 1]\n",
    "\n",
    "    cls0_avg_color = get_average_color(cls0_colors)\n",
    "    cls1_avg_color = get_average_color(cls1_colors)\n",
    "\n",
    "    if np.sum(cls0_avg_color)>=np.sum(cls1_avg_color):\n",
    "        out_color = cls0_avg_color\n",
    "    else:\n",
    "        out_color = cls1_avg_color\n",
    "\n",
    "\n",
    "    cv2.imwrite(os.path.join(save_path_img, file_name), np.full_like(x, out_color).reshape(h, w, c))\n",
    "\n",
    "    with open(os.path.join(save_path, file_name.split(\".\")[0] + \".csv\"), \"w\") as f:\n",
    "        writer = csv.writer(f)\n",
    "        writer.writerow(out_color)"
   ]
  }
 ],
 "metadata": {
  "kernelspec": {
   "display_name": "Python 3",
   "language": "python",
   "name": "python3"
  },
  "language_info": {
   "codemirror_mode": {
    "name": "ipython",
    "version": 3
   },
   "file_extension": ".py",
   "mimetype": "text/x-python",
   "name": "python",
   "nbconvert_exporter": "python",
   "pygments_lexer": "ipython3",
   "version": "3.8.8"
  },
  "orig_nbformat": 4,
  "vscode": {
   "interpreter": {
    "hash": "0299aec0d6ab1eecb6cb5c442dac294f52269a9cdac625839481a3060c084ac0"
   }
  }
 },
 "nbformat": 4,
 "nbformat_minor": 2
}
